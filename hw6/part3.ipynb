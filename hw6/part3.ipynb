{
  "nbformat": 4,
  "nbformat_minor": 0,
  "metadata": {
    "colab": {
      "provenance": [],
      "gpuType": "T4"
    },
    "kernelspec": {
      "name": "python3",
      "display_name": "Python 3"
    },
    "language_info": {
      "name": "python"
    },
    "accelerator": "GPU"
  },
  "cells": [
    {
      "cell_type": "markdown",
      "source": [
        "**Classifying newswires: a multiclass classification example**"
      ],
      "metadata": {
        "id": "_sbCbx9-WWj3"
      }
    },
    {
      "cell_type": "markdown",
      "source": [
        "#Load the dataset"
      ],
      "metadata": {
        "id": "NrJEmF6_Wd8H"
      }
    },
    {
      "cell_type": "code",
      "execution_count": 1,
      "metadata": {
        "id": "8ZvoBbcAWQuV",
        "colab": {
          "base_uri": "https://localhost:8080/"
        },
        "outputId": "4a336e0f-c39e-4918-b191-487a0df84d5b"
      },
      "outputs": [
        {
          "output_type": "stream",
          "name": "stdout",
          "text": [
            "Downloading data from https://storage.googleapis.com/tensorflow/tf-keras-datasets/reuters.npz\n",
            "\u001b[1m2110848/2110848\u001b[0m \u001b[32m━━━━━━━━━━━━━━━━━━━━\u001b[0m\u001b[37m\u001b[0m \u001b[1m0s\u001b[0m 0us/step\n"
          ]
        }
      ],
      "source": [
        "from tensorflow.keras.datasets import reuters\n",
        "\n",
        "(train_data, train_labels), (test_data, test_labels) = reuters.load_data(\n",
        "    num_words=10000)"
      ]
    },
    {
      "cell_type": "code",
      "source": [
        "train_data.shape, test_data.shape"
      ],
      "metadata": {
        "id": "8jHtfpqeYOom",
        "colab": {
          "base_uri": "https://localhost:8080/"
        },
        "outputId": "1e867598-cdff-4f3d-b20f-daa753b2e126"
      },
      "execution_count": 2,
      "outputs": [
        {
          "output_type": "execute_result",
          "data": {
            "text/plain": [
              "((8982,), (2246,))"
            ]
          },
          "metadata": {},
          "execution_count": 2
        }
      ]
    },
    {
      "cell_type": "code",
      "source": [
        "print(train_data[10])"
      ],
      "metadata": {
        "id": "MZLy1JuAYWxO",
        "colab": {
          "base_uri": "https://localhost:8080/"
        },
        "outputId": "5a3fc1e8-989f-467d-cfee-f1b84fc2012c"
      },
      "execution_count": 3,
      "outputs": [
        {
          "output_type": "stream",
          "name": "stdout",
          "text": [
            "[1, 245, 273, 207, 156, 53, 74, 160, 26, 14, 46, 296, 26, 39, 74, 2979, 3554, 14, 46, 4689, 4329, 86, 61, 3499, 4795, 14, 61, 451, 4329, 17, 12]\n"
          ]
        }
      ]
    },
    {
      "cell_type": "code",
      "source": [
        "# Decode newswires back to text\n",
        "word_index = reuters.get_word_index()\n",
        "reverse_word_index = dict(\n",
        "    [(value, key) for (key, value) in word_index.items()]\n",
        ")\n",
        "decode_review = \" \".join(\n",
        "    [reverse_word_index.get(i - 3, \"?\") for i in train_data[0]]\n",
        ")\n",
        "print(decode_review)"
      ],
      "metadata": {
        "id": "cLNwYfKyYtCe",
        "colab": {
          "base_uri": "https://localhost:8080/"
        },
        "outputId": "7906e79f-e390-4154-f55b-23ae7cc44fa6"
      },
      "execution_count": 4,
      "outputs": [
        {
          "output_type": "stream",
          "name": "stdout",
          "text": [
            "Downloading data from https://storage.googleapis.com/tensorflow/tf-keras-datasets/reuters_word_index.json\n",
            "\u001b[1m550378/550378\u001b[0m \u001b[32m━━━━━━━━━━━━━━━━━━━━\u001b[0m\u001b[37m\u001b[0m \u001b[1m0s\u001b[0m 0us/step\n",
            "? ? ? said as a result of its december acquisition of space co it expects earnings per share in 1987 of 1 15 to 1 30 dlrs per share up from 70 cts in 1986 the company said pretax net should rise to nine to 10 mln dlrs from six mln dlrs in 1986 and rental operation revenues to 19 to 22 mln dlrs from 12 5 mln dlrs it said cash flow per share this year should be 2 50 to three dlrs reuter 3\n"
          ]
        }
      ]
    },
    {
      "cell_type": "markdown",
      "source": [
        "Note: \"0\" - Padding. \"1\" - Start of sequence. \"2\" - Unknown."
      ],
      "metadata": {
        "id": "wie60x0KZ-kw"
      }
    },
    {
      "cell_type": "markdown",
      "source": [
        "#Prepare the data"
      ],
      "metadata": {
        "id": "ylWcY0g-Wh0y"
      }
    },
    {
      "cell_type": "markdown",
      "source": [
        "**Encoding the integer sequence via multi-hot encoding**"
      ],
      "metadata": {
        "id": "JcR9kDi3abP8"
      }
    },
    {
      "cell_type": "code",
      "source": [
        "import numpy as np\n",
        "\n",
        "# TODO: implement the following function for multi-hot encoding for inputs\n",
        "def vectorize_sequences(sequences, dimension=10000):\n",
        "    X = np.zeros((len(sequences), dimension), dtype=\"float32\")\n",
        "    for i, seq in enumerate(sequences):\n",
        "        X[i, np.array(seq)] = 1.0\n",
        "    return X\n",
        "\n",
        "x_train = vectorize_sequences(train_data)\n",
        "x_test  = vectorize_sequences(test_data)\n",
        "x_train[0]\n"
      ],
      "metadata": {
        "id": "Squf6oCjWkDe",
        "colab": {
          "base_uri": "https://localhost:8080/"
        },
        "outputId": "623fd17c-1d4e-4bea-99aa-1a3d509691ea"
      },
      "execution_count": 5,
      "outputs": [
        {
          "output_type": "execute_result",
          "data": {
            "text/plain": [
              "array([0., 1., 1., ..., 0., 0., 0.], dtype=float32)"
            ]
          },
          "metadata": {},
          "execution_count": 5
        }
      ]
    },
    {
      "cell_type": "code",
      "source": [
        "# TODO: implement one-hot encoding for outputs\n",
        "def to_one_hot(labels, dimension=46):\n",
        "    Y = np.zeros((len(labels), dimension), dtype=\"float32\")\n",
        "    for i, lab in enumerate(labels):\n",
        "        Y[i, lab] = 1.0\n",
        "    return Y\n",
        "\n",
        "y_train = to_one_hot(train_labels)\n",
        "y_test  = to_one_hot(test_labels)\n"
      ],
      "metadata": {
        "id": "FciW6SudcMKh"
      },
      "execution_count": 6,
      "outputs": []
    },
    {
      "cell_type": "markdown",
      "source": [
        "Note: it can also use the built-in function in Keras:\n",
        "```\n",
        "from tensorflow.keras.utils import to_categorical\n",
        "y_train = to_categorical(train_labels)\n",
        "y_test = to_categorical(test_labels)\n",
        "```\n",
        "\n"
      ],
      "metadata": {
        "id": "y3INS6GRukmW"
      }
    },
    {
      "cell_type": "markdown",
      "source": [
        "#Build the model"
      ],
      "metadata": {
        "id": "U8ucaY7vWkeX"
      }
    },
    {
      "cell_type": "markdown",
      "source": [
        "**Define the model**"
      ],
      "metadata": {
        "id": "IVWumCEdcsSw"
      }
    },
    {
      "cell_type": "code",
      "source": [
        "from tensorflow import keras\n",
        "from tensorflow.keras import layers\n",
        "\n",
        "# TODO: build DL NN model\n",
        "model = keras.Sequential(\n",
        "    [\n",
        "        layers.Input(shape=(10000,)),\n",
        "        layers.Dense(64, activation=\"relu\"),\n",
        "        layers.Dense(64, activation=\"relu\"),\n",
        "        layers.Dense(46, activation=\"softmax\"),\n",
        "    ]\n",
        ")"
      ],
      "metadata": {
        "id": "EBDYkKXAWn9P"
      },
      "execution_count": 7,
      "outputs": []
    },
    {
      "cell_type": "markdown",
      "source": [
        "**Compile the model**"
      ],
      "metadata": {
        "id": "fvjunMlKcwmH"
      }
    },
    {
      "cell_type": "code",
      "source": [
        "# TODO: fill in the information for compiling the model\n",
        "model.compile(\n",
        "    optimizer=\"rmsprop\",\n",
        "    loss=\"categorical_crossentropy\",\n",
        "    metrics=[\"accuracy\"],\n",
        ")\n",
        "\n"
      ],
      "metadata": {
        "id": "MmzIsmVMc2mj"
      },
      "execution_count": 9,
      "outputs": []
    },
    {
      "cell_type": "markdown",
      "source": [
        "#Validate the model"
      ],
      "metadata": {
        "id": "3xuORvz1WoNi"
      }
    },
    {
      "cell_type": "markdown",
      "source": [
        "**Fit the model with a validation set**"
      ],
      "metadata": {
        "id": "_ECF9KHDdoUH"
      }
    },
    {
      "cell_type": "code",
      "source": [
        "x_val = x_train[:1000]\n",
        "partial_x_train = x_train[1000:]\n",
        "y_val = y_train[:1000]\n",
        "partial_y_train = y_train[1000:]"
      ],
      "metadata": {
        "id": "0qYqirZ4Wzh_"
      },
      "execution_count": 10,
      "outputs": []
    },
    {
      "cell_type": "code",
      "source": [
        "\n",
        "# TODO: train the model\n",
        "history = model.fit(\n",
        "    partial_x_train,\n",
        "    partial_y_train,\n",
        "    epochs=20,\n",
        "    batch_size=512,\n",
        "    validation_data=(x_val, y_val),\n",
        "    verbose=2\n",
        ")"
      ],
      "metadata": {
        "id": "JZjBU3qPe9gn",
        "colab": {
          "base_uri": "https://localhost:8080/"
        },
        "outputId": "f9651c8e-3623-4249-e308-24f327381447"
      },
      "execution_count": 11,
      "outputs": [
        {
          "output_type": "stream",
          "name": "stdout",
          "text": [
            "Epoch 1/20\n",
            "16/16 - 4s - 275ms/step - accuracy: 0.4551 - loss: 2.9026 - val_accuracy: 0.6290 - val_loss: 1.9651\n",
            "Epoch 2/20\n",
            "16/16 - 0s - 19ms/step - accuracy: 0.6906 - loss: 1.5967 - val_accuracy: 0.7120 - val_loss: 1.3825\n",
            "Epoch 3/20\n",
            "16/16 - 0s - 17ms/step - accuracy: 0.7539 - loss: 1.1767 - val_accuracy: 0.7370 - val_loss: 1.1836\n",
            "Epoch 4/20\n",
            "16/16 - 0s - 19ms/step - accuracy: 0.7939 - loss: 0.9557 - val_accuracy: 0.7630 - val_loss: 1.0825\n",
            "Epoch 5/20\n",
            "16/16 - 0s - 19ms/step - accuracy: 0.8265 - loss: 0.7897 - val_accuracy: 0.7730 - val_loss: 1.0155\n",
            "Epoch 6/20\n",
            "16/16 - 0s - 18ms/step - accuracy: 0.8563 - loss: 0.6623 - val_accuracy: 0.7930 - val_loss: 0.9554\n",
            "Epoch 7/20\n",
            "16/16 - 0s - 27ms/step - accuracy: 0.8814 - loss: 0.5552 - val_accuracy: 0.7940 - val_loss: 0.9470\n",
            "Epoch 8/20\n",
            "16/16 - 0s - 27ms/step - accuracy: 0.8996 - loss: 0.4664 - val_accuracy: 0.8070 - val_loss: 0.8907\n",
            "Epoch 9/20\n",
            "16/16 - 1s - 41ms/step - accuracy: 0.9143 - loss: 0.4006 - val_accuracy: 0.7960 - val_loss: 0.9196\n",
            "Epoch 10/20\n",
            "16/16 - 0s - 17ms/step - accuracy: 0.9293 - loss: 0.3420 - val_accuracy: 0.8130 - val_loss: 0.9082\n",
            "Epoch 11/20\n",
            "16/16 - 0s - 18ms/step - accuracy: 0.9377 - loss: 0.2933 - val_accuracy: 0.8260 - val_loss: 0.8665\n",
            "Epoch 12/20\n",
            "16/16 - 0s - 19ms/step - accuracy: 0.9429 - loss: 0.2583 - val_accuracy: 0.8030 - val_loss: 0.8992\n",
            "Epoch 13/20\n",
            "16/16 - 0s - 20ms/step - accuracy: 0.9473 - loss: 0.2284 - val_accuracy: 0.8070 - val_loss: 0.9137\n",
            "Epoch 14/20\n",
            "16/16 - 0s - 19ms/step - accuracy: 0.9493 - loss: 0.2049 - val_accuracy: 0.7980 - val_loss: 0.9443\n",
            "Epoch 15/20\n",
            "16/16 - 0s - 18ms/step - accuracy: 0.9516 - loss: 0.1859 - val_accuracy: 0.8200 - val_loss: 0.9104\n",
            "Epoch 16/20\n",
            "16/16 - 0s - 17ms/step - accuracy: 0.9528 - loss: 0.1746 - val_accuracy: 0.8070 - val_loss: 0.9253\n",
            "Epoch 17/20\n",
            "16/16 - 0s - 17ms/step - accuracy: 0.9533 - loss: 0.1641 - val_accuracy: 0.8160 - val_loss: 0.8980\n",
            "Epoch 18/20\n",
            "16/16 - 0s - 17ms/step - accuracy: 0.9564 - loss: 0.1508 - val_accuracy: 0.8110 - val_loss: 0.9199\n",
            "Epoch 19/20\n",
            "16/16 - 0s - 17ms/step - accuracy: 0.9590 - loss: 0.1433 - val_accuracy: 0.7960 - val_loss: 0.9833\n",
            "Epoch 20/20\n",
            "16/16 - 0s - 18ms/step - accuracy: 0.9564 - loss: 0.1405 - val_accuracy: 0.8090 - val_loss: 0.9489\n"
          ]
        }
      ]
    },
    {
      "cell_type": "markdown",
      "source": [
        "**Plot the training and validation loss**"
      ],
      "metadata": {
        "id": "SJnGNYD8dwun"
      }
    },
    {
      "cell_type": "code",
      "source": [
        "import matplotlib.pyplot as plt\n",
        "\n",
        "def plot_training_validation_results(training_results, validation_results,\n",
        "                                     title, ylabel):\n",
        "  print(\"training: \", training_results)\n",
        "  print(\"validation: \", validation_results)\n",
        "  plt.clf()\n",
        "  epochs = range(1, len(training_results)+1)\n",
        "  plt.plot(epochs, training_results, \"bo\", label=\"Training\")\n",
        "  plt.plot(epochs, validation_results, \"b\", label=\"Validation\")\n",
        "  plt.xlabel(\"Epochs\")\n",
        "  plt.ylabel(ylabel)\n",
        "  plt.legend()\n",
        "  plt.show()"
      ],
      "metadata": {
        "id": "o5_yJexEd5zn"
      },
      "execution_count": 12,
      "outputs": []
    },
    {
      "cell_type": "code",
      "source": [
        "history_dict = history.history\n",
        "training_loss_values = history_dict[\"loss\"]\n",
        "validation_loss_values = history_dict[\"val_loss\"]\n",
        "plot_training_validation_results(training_loss_values, validation_loss_values,\n",
        "                                 \"Training and validation loss\", \"Loss\")"
      ],
      "metadata": {
        "id": "F0yJp_2ZgljA",
        "colab": {
          "base_uri": "https://localhost:8080/",
          "height": 506
        },
        "outputId": "7de816a7-774b-42cb-b163-f9df3a5be4e4"
      },
      "execution_count": 13,
      "outputs": [
        {
          "output_type": "stream",
          "name": "stdout",
          "text": [
            "training:  [2.90256404876709, 1.5966852903366089, 1.176675796508789, 0.9556851983070374, 0.7897471189498901, 0.662266731262207, 0.5552015900611877, 0.4663635492324829, 0.4005506634712219, 0.34202447533607483, 0.2933281362056732, 0.25830867886543274, 0.22837786376476288, 0.20491336286067963, 0.18588683009147644, 0.17464852333068848, 0.16412453353405, 0.1507817804813385, 0.14330710470676422, 0.1405271589756012]\n",
            "validation:  [1.9650822877883911, 1.3825041055679321, 1.1836256980895996, 1.0824896097183228, 1.015493392944336, 0.9553910493850708, 0.9470191597938538, 0.8906583786010742, 0.9195551872253418, 0.908184826374054, 0.8665269613265991, 0.899154782295227, 0.9136773347854614, 0.9442816376686096, 0.9104035496711731, 0.9252799153327942, 0.8980181813240051, 0.9198923707008362, 0.9833210706710815, 0.9488667845726013]\n"
          ]
        },
        {
          "output_type": "display_data",
          "data": {
            "text/plain": [
              "<Figure size 640x480 with 1 Axes>"
            ],
            "image/png": "[encoded data removed]"
          },
          "metadata": {}
        }
      ]
    },
    {
      "cell_type": "code",
      "source": [
        "training_acc = history_dict[\"accuracy\"]\n",
        "validation_acc = history_dict[\"val_accuracy\"]\n",
        "plot_training_validation_results(training_acc, validation_acc,\n",
        "                                 \"Training and validation accuracy\",\n",
        "                                 \"Accuracy\")"
      ],
      "metadata": {
        "id": "Dni-fsHghGf4",
        "colab": {
          "base_uri": "https://localhost:8080/",
          "height": 505
        },
        "outputId": "e4ee52c3-87ea-47f7-f410-80aa686679f9"
      },
      "execution_count": 14,
      "outputs": [
        {
          "output_type": "stream",
          "name": "stdout",
          "text": [
            "training:  [0.4551490843296051, 0.6905537247657776, 0.7539463639259338, 0.7939112782478333, 0.8264845609664917, 0.8563016653060913, 0.8813580274581909, 0.8996492028236389, 0.914307177066803, 0.9293410181999207, 0.9377349019050598, 0.9428714513778687, 0.947256326675415, 0.9492608308792114, 0.9516412019729614, 0.9527687430381775, 0.9532698392868042, 0.9564018845558167, 0.9590328335762024, 0.9564018845558167]\n",
            "validation:  [0.6290000081062317, 0.7120000123977661, 0.7369999885559082, 0.7630000114440918, 0.7730000019073486, 0.7929999828338623, 0.7940000295639038, 0.8069999814033508, 0.7960000038146973, 0.8130000233650208, 0.8259999752044678, 0.8029999732971191, 0.8069999814033508, 0.7979999780654907, 0.8199999928474426, 0.8069999814033508, 0.8159999847412109, 0.8109999895095825, 0.7960000038146973, 0.8090000152587891]\n"
          ]
        },
        {
          "output_type": "display_data",
          "data": {
            "text/plain": [
              "<Figure size 640x480 with 1 Axes>"
            ],
            "image/png": "[encoded data removed]"
          },
          "metadata": {}
        }
      ]
    },
    {
      "cell_type": "markdown",
      "source": [
        "**Refine the model**"
      ],
      "metadata": {
        "id": "GavVBkAXd5-X"
      }
    },
    {
      "cell_type": "code",
      "source": [
        "# If you already trained once and have a `history` object:\n",
        "import numpy as np\n",
        "\n",
        "if \"history\" in locals():\n",
        "    val_losses = history.history[\"val_loss\"]\n",
        "    best_epoch = int(np.argmin(val_losses)) + 1\n",
        "    print(\"Best epoch by validation loss:\", best_epoch)\n",
        "else:\n",
        "    best_epoch = 10  # fallback default if you restarted runtime\n",
        "    print(\"No history found — using default best_epoch =\", best_epoch)\n"
      ],
      "metadata": {
        "colab": {
          "base_uri": "https://localhost:8080/"
        },
        "id": "c1ZGBmCi2ZH9",
        "outputId": "cb688ec3-6722-47ff-e475-eb3dcc2d355f"
      },
      "execution_count": 16,
      "outputs": [
        {
          "output_type": "stream",
          "name": "stdout",
          "text": [
            "Best epoch by validation loss: 11\n"
          ]
        }
      ]
    },
    {
      "cell_type": "code",
      "source": [
        "# TODO: build DL NN model\n",
        "model = keras.Sequential(\n",
        "    [\n",
        "        layers.Input(shape=(10000,)),\n",
        "        layers.Dense(64, activation=\"relu\"),\n",
        "        layers.Dense(64, activation=\"relu\"),\n",
        "        layers.Dense(46, activation=\"softmax\"),\n",
        "    ]\n",
        ")\n",
        "\n",
        "# TODO: fill in the information for compiling the model\n",
        "model.compile(\n",
        "    optimizer=\"rmsprop\",\n",
        "    loss=\"categorical_crossentropy\",\n",
        "    metrics=[\"accuracy\"],\n",
        ")\n",
        "\n",
        "# TODO: train the model using the best epoch\n",
        "model.fit(\n",
        "    x_train,\n",
        "    y_train,\n",
        "    epochs=best_epoch,\n",
        "    batch_size=512,\n",
        "    verbose=2\n",
        ")\n",
        "\n",
        "model.predict(x_test)\n",
        "results = model.evaluate(x_test, y_test, verbose=0)\n",
        "print(results)\n"
      ],
      "metadata": {
        "id": "oUP8Gz8md-wC",
        "colab": {
          "base_uri": "https://localhost:8080/"
        },
        "outputId": "1183e936-4924-4bcb-c852-3eb201621bb9"
      },
      "execution_count": 17,
      "outputs": [
        {
          "output_type": "stream",
          "name": "stdout",
          "text": [
            "Epoch 1/11\n",
            "18/18 - 2s - 123ms/step - accuracy: 0.4627 - loss: 2.7314\n",
            "Epoch 2/11\n",
            "18/18 - 0s - 13ms/step - accuracy: 0.6942 - loss: 1.4991\n",
            "Epoch 3/11\n",
            "18/18 - 0s - 14ms/step - accuracy: 0.7611 - loss: 1.1357\n",
            "Epoch 4/11\n",
            "18/18 - 0s - 16ms/step - accuracy: 0.8036 - loss: 0.9158\n",
            "Epoch 5/11\n",
            "18/18 - 0s - 13ms/step - accuracy: 0.8368 - loss: 0.7542\n",
            "Epoch 6/11\n",
            "18/18 - 0s - 16ms/step - accuracy: 0.8624 - loss: 0.6249\n",
            "Epoch 7/11\n",
            "18/18 - 0s - 13ms/step - accuracy: 0.8889 - loss: 0.5189\n",
            "Epoch 8/11\n",
            "18/18 - 0s - 14ms/step - accuracy: 0.9066 - loss: 0.4352\n",
            "Epoch 9/11\n",
            "18/18 - 0s - 16ms/step - accuracy: 0.9168 - loss: 0.3732\n",
            "Epoch 10/11\n",
            "18/18 - 0s - 13ms/step - accuracy: 0.9289 - loss: 0.3199\n",
            "Epoch 11/11\n",
            "18/18 - 0s - 17ms/step - accuracy: 0.9377 - loss: 0.2794\n",
            "\u001b[1m71/71\u001b[0m \u001b[32m━━━━━━━━━━━━━━━━━━━━\u001b[0m\u001b[37m\u001b[0m \u001b[1m1s\u001b[0m 6ms/step\n",
            "[0.9334105849266052, 0.7916295528411865]\n"
          ]
        }
      ]
    },
    {
      "cell_type": "markdown",
      "source": [
        "#Predict new data"
      ],
      "metadata": {
        "id": "0nDALc-8Wz9w"
      }
    },
    {
      "cell_type": "code",
      "source": [
        "model.predict(x_test)"
      ],
      "metadata": {
        "id": "uy0V5X05W3RA",
        "colab": {
          "base_uri": "https://localhost:8080/"
        },
        "outputId": "babb5ab8-9bea-4365-b7b0-b801d5b012ec"
      },
      "execution_count": 18,
      "outputs": [
        {
          "output_type": "stream",
          "name": "stdout",
          "text": [
            "\u001b[1m71/71\u001b[0m \u001b[32m━━━━━━━━━━━━━━━━━━━━\u001b[0m\u001b[37m\u001b[0m \u001b[1m0s\u001b[0m 3ms/step\n"
          ]
        },
        {
          "output_type": "execute_result",
          "data": {
            "text/plain": [
              "array([[2.1278769e-05, 8.7913822e-06, 4.7230897e-05, ..., 8.6629134e-06,\n",
              "        2.6136649e-06, 1.5558008e-07],\n",
              "       [1.7057953e-02, 4.7467079e-02, 2.3765611e-03, ..., 7.1814604e-04,\n",
              "        2.2810709e-04, 1.0622271e-03],\n",
              "       [4.2560478e-03, 8.6768323e-01, 1.5473968e-03, ..., 2.6298907e-05,\n",
              "        3.8202317e-04, 1.8246279e-03],\n",
              "       ...,\n",
              "       [6.5794811e-05, 8.0776174e-04, 1.6943163e-04, ..., 8.5122756e-06,\n",
              "        3.7904261e-05, 9.2456385e-06],\n",
              "       [8.6615956e-04, 1.4557586e-02, 7.9592352e-04, ..., 1.4517683e-04,\n",
              "        1.4803637e-04, 1.4983326e-04],\n",
              "       [9.3243475e-04, 2.0976339e-01, 1.3832268e-02, ..., 3.1235184e-05,\n",
              "        6.6961351e-05, 6.2907515e-03]], dtype=float32)"
            ]
          },
          "metadata": {},
          "execution_count": 18
        }
      ]
    },
    {
      "cell_type": "code",
      "source": [
        "results = model.evaluate(x_test, y_test)\n",
        "print(results)"
      ],
      "metadata": {
        "id": "MIBTSOE4kLbW",
        "colab": {
          "base_uri": "https://localhost:8080/"
        },
        "outputId": "412b0793-65b1-47f6-e49f-27bccc861eb2"
      },
      "execution_count": 19,
      "outputs": [
        {
          "output_type": "stream",
          "name": "stdout",
          "text": [
            "\u001b[1m71/71\u001b[0m \u001b[32m━━━━━━━━━━━━━━━━━━━━\u001b[0m\u001b[37m\u001b[0m \u001b[1m0s\u001b[0m 3ms/step - accuracy: 0.7964 - loss: 0.9169\n",
            "[0.9334105849266052, 0.7916295528411865]\n"
          ]
        }
      ]
    },
    {
      "cell_type": "markdown",
      "source": [
        "#Other experiments"
      ],
      "metadata": {
        "id": "arGEf-lCv7yr"
      }
    },
    {
      "cell_type": "markdown",
      "source": [
        "##Consider the baseline"
      ],
      "metadata": {
        "id": "4GaksPMq2fKG"
      }
    },
    {
      "cell_type": "code",
      "source": [
        "import copy\n",
        "\n",
        "test_labels_copy = copy.copy(test_labels)\n",
        "np.random.shuffle(test_labels_copy)\n",
        "hits_array = np.array(test_labels) == np.array(test_labels_copy)\n",
        "hits_array.mean()"
      ],
      "metadata": {
        "id": "8QQj3bSDwFzJ",
        "colab": {
          "base_uri": "https://localhost:8080/"
        },
        "outputId": "ae607efd-3168-4121-92ca-eeaf717d25ae"
      },
      "execution_count": 20,
      "outputs": [
        {
          "output_type": "execute_result",
          "data": {
            "text/plain": [
              "np.float64(0.1731967943009795)"
            ]
          },
          "metadata": {},
          "execution_count": 20
        }
      ]
    },
    {
      "cell_type": "code",
      "source": [
        "results = np.zeros(46)\n",
        "for label in test_labels:\n",
        "  results[label] += 1\n",
        "print(results)\n",
        "print(max(results))\n",
        "print(max(results) / sum(results))"
      ],
      "metadata": {
        "id": "qjUwtXj7wbRU",
        "colab": {
          "base_uri": "https://localhost:8080/"
        },
        "outputId": "460e6e1d-0661-4089-dcf7-86ad3b468277"
      },
      "execution_count": 21,
      "outputs": [
        {
          "output_type": "stream",
          "name": "stdout",
          "text": [
            "[ 12. 105.  20. 813. 474.   5.  14.   3.  38.  25.  30.  83.  13.  37.\n",
            "   2.   9.  99.  12.  20. 133.  70.  27.   7.  12.  19.  31.   8.   4.\n",
            "  10.   4.  12.  13.  10.   5.   7.   6.  11.   2.   3.   5.  10.   8.\n",
            "   3.   6.   5.   1.]\n",
            "813.0\n",
            "0.3619768477292965\n"
          ]
        }
      ]
    },
    {
      "cell_type": "code",
      "source": [
        "results = np.zeros(46)\n",
        "for label in train_labels:\n",
        "  results[label] += 1\n",
        "print(results)\n",
        "print(max(results))\n",
        "print(max(results) / sum(results))"
      ],
      "metadata": {
        "id": "14CmaApMxWeb",
        "colab": {
          "base_uri": "https://localhost:8080/"
        },
        "outputId": "9cda980d-5b97-4d6b-d42e-209eec320a59"
      },
      "execution_count": 22,
      "outputs": [
        {
          "output_type": "stream",
          "name": "stdout",
          "text": [
            "[  55.  432.   74. 3159. 1949.   17.   48.   16.  139.  101.  124.  390.\n",
            "   49.  172.   26.   20.  444.   39.   66.  549.  269.  100.   15.   41.\n",
            "   62.   92.   24.   15.   48.   19.   45.   39.   32.   11.   50.   10.\n",
            "   49.   19.   19.   24.   36.   30.   13.   21.   12.   18.]\n",
            "3159.0\n",
            "0.3517034068136273\n"
          ]
        }
      ]
    }
  ]
}